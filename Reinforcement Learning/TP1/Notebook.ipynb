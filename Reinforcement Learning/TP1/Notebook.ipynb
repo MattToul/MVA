{
 "cells": [
  {
   "cell_type": "code",
   "execution_count": 1,
   "metadata": {},
   "outputs": [],
   "source": [
    "import numpy as np\n",
    "import matplotlib.pyplot as plt \n",
    "from copy import deepcopy"
   ]
  },
  {
   "cell_type": "code",
   "execution_count": 2,
   "metadata": {},
   "outputs": [],
   "source": [
    "states = ['s0','s1', 's2']\n",
    "actions = ['a0', 'a1', 'a2']\n",
    "\n",
    "\n",
    "P = { 0:np.array([\n",
    "        [0.55,0.45,0],\n",
    "        [0.3,0.7,0],\n",
    "        [1,0,0]\n",
    "    ]),\n",
    "     1:np.array([\n",
    "        [1,0,0],\n",
    "        [0,0.4,0.6],\n",
    "        [0,1,0]\n",
    "    ]),\n",
    "     2:np.array([\n",
    "        [0,1,0],\n",
    "        [0,0.6,0.4],\n",
    "        [0,0,1]\n",
    "    ])\n",
    "     \n",
    "}\n",
    "# R[state,:] = [reward action 0, reward action 1, reward action 2]\n",
    "R = np.array([\n",
    "    [0,0,5./100],\n",
    "    [0,0,0],\n",
    "    [0,1,9./10]\n",
    "])"
   ]
  },
  {
   "cell_type": "markdown",
   "metadata": {},
   "source": [
    "###  Value Iteration "
   ]
  },
  {
   "cell_type": "code",
   "execution_count": 3,
   "metadata": {},
   "outputs": [
    {
     "name": "stdout",
     "output_type": "stream",
     "text": [
      "100 [15.28540073 16.4426306  17.8942435 ]\n"
     ]
    }
   ],
   "source": [
    "N = 10000\n",
    "V = np.zeros((N, 3))\n",
    "V[0,:] = np.array([0.05, 0.0001, 0.08])\n",
    "gamma = 0.95\n",
    "for i in range(1,N):\n",
    "    for s in range(3):\n",
    "        Q = list()\n",
    "        for a in range(3):\n",
    "            sA = R[s,a]\n",
    "            for sp in range(3):\n",
    "                sA = sA + P[s][a, sp]*(gamma*V[i-1,sp])\n",
    "            Q.append(sA)\n",
    "        V[i,s] = np.max(Q)\n",
    "    if np.linalg.norm(V[i-1,:] - V[i,:])<0.01:\n",
    "        break\n",
    "print(i, V[i,:])"
   ]
  },
  {
   "cell_type": "code",
   "execution_count": 4,
   "metadata": {},
   "outputs": [
    {
     "name": "stdout",
     "output_type": "stream",
     "text": [
      "0 1\n",
      "1 1\n",
      "2 2\n"
     ]
    }
   ],
   "source": [
    "for s in [0,1,2]:\n",
    "    Q = list()\n",
    "    for a in range(3):\n",
    "        q = sum([P[s][a, sp]*(R[s,a] + gamma*V[i,sp]) for sp in range(3)])\n",
    "        Q.append(q)\n",
    "    print(s, np.argmax(Q))"
   ]
  },
  {
   "cell_type": "markdown",
   "metadata": {},
   "source": [
    "### Policy Iteration "
   ]
  },
  {
   "cell_type": "code",
   "execution_count": 5,
   "metadata": {},
   "outputs": [],
   "source": [
    "N = 10000\n",
    "V = np.array([0.05, 0.0001, 0.08])\n",
    "\n",
    "policy = np.array([0,0,0])\n",
    "\n",
    "gamma = 0.95\n",
    "for i in range(1,N):\n",
    "    policy2 = deepcopy(policy).astype(int)\n",
    "    oldV = deepcopy(V)\n",
    "    for s in range(3):\n",
    "        V[s] = sum([P[s][policy2[s], sp]*(R[s,policy2[s]] + gamma*(oldV[sp])) for sp in range(3)])    \n",
    "    for s in range(3):\n",
    "        # Update policy\n",
    "        currentq = V[s]\n",
    "        for a in range(3):\n",
    "            sA = R[s,a]\n",
    "            q = sum([P[s][a, sp]*(R[s,a] + gamma*(V[sp])) for sp in range(3)])\n",
    "            if q > currentq:\n",
    "                policy[s] = a\n",
    "                currentq = q\n",
    "    #if np.sum(policy == policy2) == 3:\n",
    "    #    break"
   ]
  },
  {
   "cell_type": "markdown",
   "metadata": {},
   "source": [
    "### Q Learning "
   ]
  },
  {
   "cell_type": "code",
   "execution_count": 6,
   "metadata": {},
   "outputs": [],
   "source": [
    "from gridworld import GridWorld1\n",
    "import gridrender as gui\n",
    "import numpy as np\n",
    "import time\n",
    "\n",
    "env = GridWorld1"
   ]
  },
  {
   "cell_type": "code",
   "execution_count": 7,
   "metadata": {},
   "outputs": [
    {
     "name": "stdout",
     "output_type": "stream",
     "text": [
      "[[0, 0], [0, 1], [0, 2], [0, 3], [1, 0], [1, 2], [1, 3], [2, 0], [2, 1], [2, 2], [2, 3]]\n",
      "[[ 0  1  2  3]\n",
      " [ 4 -1  5  6]\n",
      " [ 7  8  9 10]]\n",
      "[[0, 1], [0, 2], [0, 1, 2], [0], [1, 3], [0, 1, 3], [0], [0, 3], [0, 2], [0, 2, 3], [2, 3]]\n",
      "s0: ['right' 'down']\n",
      "s1: ['right' 'left']\n",
      "s2: ['right' 'down' 'left']\n",
      "s3: ['right']\n",
      "s4: ['down' 'up']\n",
      "s5: ['right' 'down' 'up']\n",
      "s6: ['right']\n",
      "s7: ['right' 'up']\n",
      "s8: ['right' 'left']\n",
      "s9: ['right' 'left' 'up']\n",
      "s10: ['left' 'up']\n"
     ]
    }
   ],
   "source": [
    "print(env.state2coord)\n",
    "print(env.coord2state)\n",
    "print(env.state_actions)\n",
    "for i, el in enumerate(env.state_actions):\n",
    "        print(\"s{}: {}\".format(i, env.action_names[el]))"
   ]
  },
  {
   "cell_type": "code",
   "execution_count": 8,
   "metadata": {},
   "outputs": [],
   "source": [
    "env.render = False"
   ]
  },
  {
   "cell_type": "code",
   "execution_count": 10,
   "metadata": {},
   "outputs": [
    {
     "name": "stdout",
     "output_type": "stream",
     "text": [
      "0 0.0 False\n",
      "4 0.0 False\n",
      "0 0.0 False\n",
      "1 0.0 False\n",
      "0 0.0 False\n"
     ]
    }
   ],
   "source": [
    "state = 0 \n",
    "for i in range(5):\n",
    "        action = np.random.choice(env.state_actions[state])\n",
    "        nexts, reward, term = env.step(state,action)\n",
    "        state = nexts\n",
    "        print(state, reward, term)"
   ]
  },
  {
   "cell_type": "code",
   "execution_count": null,
   "metadata": {},
   "outputs": [],
   "source": []
  }
 ],
 "metadata": {
  "kernelspec": {
   "display_name": "Python 3",
   "language": "python",
   "name": "python3"
  },
  "language_info": {
   "codemirror_mode": {
    "name": "ipython",
    "version": 3
   },
   "file_extension": ".py",
   "mimetype": "text/x-python",
   "name": "python",
   "nbconvert_exporter": "python",
   "pygments_lexer": "ipython3",
   "version": "3.6.5"
  }
 },
 "nbformat": 4,
 "nbformat_minor": 2
}
